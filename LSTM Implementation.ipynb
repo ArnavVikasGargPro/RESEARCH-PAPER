{
 "cells": [
  {
   "cell_type": "code",
   "execution_count": 1,
   "id": "b15cfb40-5356-43c3-9133-f765942b321c",
   "metadata": {},
   "outputs": [],
   "source": [
    "import torch\n",
    "import torch.nn as nn\n",
    "from torch.utils.data import Dataset, DataLoader\n",
    "import pandas as pd\n",
    "import os\n",
    "import numpy as np"
   ]
  },
  {
   "cell_type": "code",
   "execution_count": 2,
   "id": "69e16591-e552-4287-9432-e47fb2e5ceae",
   "metadata": {},
   "outputs": [
    {
     "data": {
      "text/plain": [
       "device(type='cuda')"
      ]
     },
     "execution_count": 2,
     "metadata": {},
     "output_type": "execute_result"
    }
   ],
   "source": [
    "device = torch.device(\"cuda\" if torch.cuda.is_available() else \"cpu\")\n",
    "device"
   ]
  },
  {
   "cell_type": "code",
   "execution_count": 3,
   "id": "5d2b9c86-ca96-451d-8325-f90b7b8a6d58",
   "metadata": {},
   "outputs": [],
   "source": [
    "# Create dataset and data loader\n",
    "# Sample file paths and labels (replace with actual paths and labels)\n",
    "universities = os.listdir('processed_subjects')\n",
    "subject_files = []\n",
    "file_paths = []\n",
    "\n",
    "for subfiles in universities[:1]:\n",
    "    # Correctly join the directory path\n",
    "    files = os.listdir(os.path.join('processed_subjects', subfiles))\n",
    "    for file in files:\n",
    "        if not file[:5].isdigit():\n",
    "            continue # Iterate directly over the list of files\n",
    "        file_paths.append(os.path.join('processed_subjects', subfiles, file))\n",
    "    subject_files += files"
   ]
  },
  {
   "cell_type": "code",
   "execution_count": 4,
   "id": "6156372e-ae91-4530-8b69-60de703746c4",
   "metadata": {},
   "outputs": [
    {
     "name": "stdout",
     "output_type": "stream",
     "text": [
      "52\n",
      "['processed_subjects/final_processed/29880.csv', 'processed_subjects/final_processed/29903.csv', 'processed_subjects/final_processed/29895.csv', 'processed_subjects/final_processed/29881.csv', 'processed_subjects/final_processed/29899.csv', 'processed_subjects/final_processed/29917.csv', 'processed_subjects/final_processed/29896.csv', 'processed_subjects/final_processed/29912.csv', 'processed_subjects/final_processed/29904.csv', 'processed_subjects/final_processed/29874.csv', 'processed_subjects/final_processed/29890.csv', 'processed_subjects/final_processed/29866.csv', 'processed_subjects/final_processed/29865.csv', 'processed_subjects/final_processed/29877.csv', 'processed_subjects/final_processed/29875.csv', 'processed_subjects/final_processed/29916.csv', 'processed_subjects/final_processed/29910.csv', 'processed_subjects/final_processed/29897.csv', 'processed_subjects/final_processed/29900.csv', 'processed_subjects/final_processed/29893.csv', 'processed_subjects/final_processed/29867.csv', 'processed_subjects/final_processed/29894.csv', 'processed_subjects/final_processed/29907.csv', 'processed_subjects/final_processed/29901.csv', 'processed_subjects/final_processed/29915.csv', 'processed_subjects/final_processed/29908.csv', 'processed_subjects/final_processed/29871.csv', 'processed_subjects/final_processed/29906.csv', 'processed_subjects/final_processed/29909.csv', 'processed_subjects/final_processed/29913.csv', 'processed_subjects/final_processed/29914.csv', 'processed_subjects/final_processed/29885.csv', 'processed_subjects/final_processed/29889.csv', 'processed_subjects/final_processed/29883.csv', 'processed_subjects/final_processed/29878.csv', 'processed_subjects/final_processed/29868.csv', 'processed_subjects/final_processed/29884.csv', 'processed_subjects/final_processed/29876.csv', 'processed_subjects/final_processed/29879.csv', 'processed_subjects/final_processed/29882.csv', 'processed_subjects/final_processed/29873.csv', 'processed_subjects/final_processed/29905.csv', 'processed_subjects/final_processed/29898.csv', 'processed_subjects/final_processed/29872.csv', 'processed_subjects/final_processed/29911.csv', 'processed_subjects/final_processed/29886.csv', 'processed_subjects/final_processed/29888.csv', 'processed_subjects/final_processed/29869.csv', 'processed_subjects/final_processed/29902.csv', 'processed_subjects/final_processed/29891.csv', 'processed_subjects/final_processed/29892.csv', 'processed_subjects/final_processed/29870.csv']\n"
     ]
    }
   ],
   "source": [
    "print(len(file_paths))\n",
    "print(file_paths)"
   ]
  },
  {
   "cell_type": "code",
   "execution_count": 5,
   "id": "1bf2c4e4-00f8-4909-a483-213148e960e4",
   "metadata": {},
   "outputs": [
    {
     "data": {
      "text/plain": [
       "['ABIDEII-EMC_1_CSV.csv', 'ABIDEII-GU_1.csv']"
      ]
     },
     "execution_count": 5,
     "metadata": {},
     "output_type": "execute_result"
    }
   ],
   "source": [
    "meta_paths = os.listdir('/mnt/k/Abide Dataset/metadata/')\n",
    "meta_paths"
   ]
  },
  {
   "cell_type": "code",
   "execution_count": 6,
   "id": "765d1bd0-9eaf-4d25-9952-a3877b38413f",
   "metadata": {},
   "outputs": [
    {
     "name": "stdout",
     "output_type": "stream",
     "text": [
      "tensor([0, 1, 1, 0, 1, 1, 1, 1, 1, 0, 0, 0, 0, 0, 0, 1, 1, 1, 1, 1, 0, 1, 1, 1,\n",
      "        1, 1, 0, 1, 1, 1, 1, 0, 0, 0, 0, 0, 0, 0, 0, 0, 0, 1, 1, 0, 1, 0, 0, 0,\n",
      "        1, 1, 1, 0])\n",
      "52\n",
      "['29880', '29903', '29895', '29881', '29899', '29917', '29896', '29912', '29904', '29874', '29890', '29866', '29865', '29877', '29875', '29916', '29910', '29897', '29900', '29893', '29867', '29894', '29907', '29901', '29915', '29908', '29871', '29906', '29909', '29913', '29914', '29885', '29889', '29883', '29878', '29868', '29884', '29876', '29879', '29882', '29873', '29905', '29898', '29872', '29911', '29886', '29888', '29869', '29902', '29891', '29892', '29870']\n"
     ]
    },
    {
     "data": {
      "text/html": [
       "<div>\n",
       "<style scoped>\n",
       "    .dataframe tbody tr th:only-of-type {\n",
       "        vertical-align: middle;\n",
       "    }\n",
       "\n",
       "    .dataframe tbody tr th {\n",
       "        vertical-align: top;\n",
       "    }\n",
       "\n",
       "    .dataframe thead th {\n",
       "        text-align: right;\n",
       "    }\n",
       "</style>\n",
       "<table border=\"1\" class=\"dataframe\">\n",
       "  <thead>\n",
       "    <tr style=\"text-align: right;\">\n",
       "      <th></th>\n",
       "      <th>SITE_ID</th>\n",
       "      <th>SUB_ID</th>\n",
       "      <th>NDAR_GUID</th>\n",
       "      <th>DX_GROUP</th>\n",
       "      <th>PDD_DSM_IV_TR</th>\n",
       "      <th>ASD_DSM_5</th>\n",
       "      <th>AGE_AT_SCAN</th>\n",
       "      <th>SEX</th>\n",
       "      <th>HANDEDNESS_CATEGORY</th>\n",
       "      <th>HANDEDNESS_SCORES</th>\n",
       "      <th>...</th>\n",
       "      <th>ADI_R_C4_HIGHER</th>\n",
       "      <th>ADI_R_C4_UNUSUAL_SENSORY_INTERESTS</th>\n",
       "      <th>ADI_R_C4_TOTAL</th>\n",
       "      <th>ADI_R_D_AGE_PARENT_NOTICED</th>\n",
       "      <th>ADI_R_D_AGE_FIRST_SINGLE_WORDS</th>\n",
       "      <th>ADI_R_D_AGE_FIRST_PHRASES</th>\n",
       "      <th>ADI_R_D_AGE_WHEN_ABNORMALITY</th>\n",
       "      <th>ADI_R_D_INTERVIEWER_JUDGMENT</th>\n",
       "      <th>NON_ASD_PSY_DX_ICD9_CODE</th>\n",
       "      <th>NON_ASD_PSY_DX_LABEL</th>\n",
       "    </tr>\n",
       "  </thead>\n",
       "  <tbody>\n",
       "    <tr>\n",
       "      <th>0</th>\n",
       "      <td>ABIDEII-EMC_1</td>\n",
       "      <td>29864</td>\n",
       "      <td>NaN</td>\n",
       "      <td>1</td>\n",
       "      <td>NaN</td>\n",
       "      <td>NaN</td>\n",
       "      <td>9.013005</td>\n",
       "      <td>1</td>\n",
       "      <td>2</td>\n",
       "      <td>NaN</td>\n",
       "      <td>...</td>\n",
       "      <td>NaN</td>\n",
       "      <td>NaN</td>\n",
       "      <td>NaN</td>\n",
       "      <td>NaN</td>\n",
       "      <td>NaN</td>\n",
       "      <td>NaN</td>\n",
       "      <td>NaN</td>\n",
       "      <td>NaN</td>\n",
       "      <td>NaN</td>\n",
       "      <td>NaN</td>\n",
       "    </tr>\n",
       "    <tr>\n",
       "      <th>1</th>\n",
       "      <td>ABIDEII-EMC_1</td>\n",
       "      <td>29865</td>\n",
       "      <td>NaN</td>\n",
       "      <td>1</td>\n",
       "      <td>NaN</td>\n",
       "      <td>NaN</td>\n",
       "      <td>10.663929</td>\n",
       "      <td>1</td>\n",
       "      <td>1</td>\n",
       "      <td>NaN</td>\n",
       "      <td>...</td>\n",
       "      <td>NaN</td>\n",
       "      <td>NaN</td>\n",
       "      <td>NaN</td>\n",
       "      <td>NaN</td>\n",
       "      <td>NaN</td>\n",
       "      <td>NaN</td>\n",
       "      <td>NaN</td>\n",
       "      <td>NaN</td>\n",
       "      <td>NaN</td>\n",
       "      <td>NaN</td>\n",
       "    </tr>\n",
       "    <tr>\n",
       "      <th>2</th>\n",
       "      <td>ABIDEII-EMC_1</td>\n",
       "      <td>29866</td>\n",
       "      <td>NaN</td>\n",
       "      <td>1</td>\n",
       "      <td>NaN</td>\n",
       "      <td>NaN</td>\n",
       "      <td>8.720055</td>\n",
       "      <td>1</td>\n",
       "      <td>1</td>\n",
       "      <td>NaN</td>\n",
       "      <td>...</td>\n",
       "      <td>NaN</td>\n",
       "      <td>NaN</td>\n",
       "      <td>NaN</td>\n",
       "      <td>NaN</td>\n",
       "      <td>NaN</td>\n",
       "      <td>NaN</td>\n",
       "      <td>NaN</td>\n",
       "      <td>NaN</td>\n",
       "      <td>NaN</td>\n",
       "      <td>NaN</td>\n",
       "    </tr>\n",
       "    <tr>\n",
       "      <th>3</th>\n",
       "      <td>ABIDEII-EMC_1</td>\n",
       "      <td>29867</td>\n",
       "      <td>NaN</td>\n",
       "      <td>1</td>\n",
       "      <td>NaN</td>\n",
       "      <td>NaN</td>\n",
       "      <td>8.517454</td>\n",
       "      <td>2</td>\n",
       "      <td>1</td>\n",
       "      <td>NaN</td>\n",
       "      <td>...</td>\n",
       "      <td>NaN</td>\n",
       "      <td>NaN</td>\n",
       "      <td>NaN</td>\n",
       "      <td>NaN</td>\n",
       "      <td>NaN</td>\n",
       "      <td>NaN</td>\n",
       "      <td>NaN</td>\n",
       "      <td>NaN</td>\n",
       "      <td>NaN</td>\n",
       "      <td>NaN</td>\n",
       "    </tr>\n",
       "    <tr>\n",
       "      <th>4</th>\n",
       "      <td>ABIDEII-EMC_1</td>\n",
       "      <td>29868</td>\n",
       "      <td>NaN</td>\n",
       "      <td>1</td>\n",
       "      <td>NaN</td>\n",
       "      <td>NaN</td>\n",
       "      <td>10.650240</td>\n",
       "      <td>1</td>\n",
       "      <td>2</td>\n",
       "      <td>NaN</td>\n",
       "      <td>...</td>\n",
       "      <td>NaN</td>\n",
       "      <td>NaN</td>\n",
       "      <td>NaN</td>\n",
       "      <td>NaN</td>\n",
       "      <td>NaN</td>\n",
       "      <td>NaN</td>\n",
       "      <td>NaN</td>\n",
       "      <td>NaN</td>\n",
       "      <td>NaN</td>\n",
       "      <td>NaN</td>\n",
       "    </tr>\n",
       "  </tbody>\n",
       "</table>\n",
       "<p>5 rows × 350 columns</p>\n",
       "</div>"
      ],
      "text/plain": [
       "         SITE_ID  SUB_ID  NDAR_GUID  DX_GROUP  PDD_DSM_IV_TR  ASD_DSM_5  \\\n",
       "0  ABIDEII-EMC_1   29864        NaN         1            NaN        NaN   \n",
       "1  ABIDEII-EMC_1   29865        NaN         1            NaN        NaN   \n",
       "2  ABIDEII-EMC_1   29866        NaN         1            NaN        NaN   \n",
       "3  ABIDEII-EMC_1   29867        NaN         1            NaN        NaN   \n",
       "4  ABIDEII-EMC_1   29868        NaN         1            NaN        NaN   \n",
       "\n",
       "   AGE_AT_SCAN   SEX  HANDEDNESS_CATEGORY  HANDEDNESS_SCORES  ...  \\\n",
       "0      9.013005    1                    2                NaN  ...   \n",
       "1     10.663929    1                    1                NaN  ...   \n",
       "2      8.720055    1                    1                NaN  ...   \n",
       "3      8.517454    2                    1                NaN  ...   \n",
       "4     10.650240    1                    2                NaN  ...   \n",
       "\n",
       "   ADI_R_C4_HIGHER  ADI_R_C4_UNUSUAL_SENSORY_INTERESTS  ADI_R_C4_TOTAL  \\\n",
       "0              NaN                                 NaN             NaN   \n",
       "1              NaN                                 NaN             NaN   \n",
       "2              NaN                                 NaN             NaN   \n",
       "3              NaN                                 NaN             NaN   \n",
       "4              NaN                                 NaN             NaN   \n",
       "\n",
       "  ADI_R_D_AGE_PARENT_NOTICED ADI_R_D_AGE_FIRST_SINGLE_WORDS  \\\n",
       "0                        NaN                            NaN   \n",
       "1                        NaN                            NaN   \n",
       "2                        NaN                            NaN   \n",
       "3                        NaN                            NaN   \n",
       "4                        NaN                            NaN   \n",
       "\n",
       "  ADI_R_D_AGE_FIRST_PHRASES  ADI_R_D_AGE_WHEN_ABNORMALITY  \\\n",
       "0                       NaN                           NaN   \n",
       "1                       NaN                           NaN   \n",
       "2                       NaN                           NaN   \n",
       "3                       NaN                           NaN   \n",
       "4                       NaN                           NaN   \n",
       "\n",
       "   ADI_R_D_INTERVIEWER_JUDGMENT  NON_ASD_PSY_DX_ICD9_CODE  \\\n",
       "0                           NaN                       NaN   \n",
       "1                           NaN                       NaN   \n",
       "2                           NaN                       NaN   \n",
       "3                           NaN                       NaN   \n",
       "4                           NaN                       NaN   \n",
       "\n",
       "   NON_ASD_PSY_DX_LABEL  \n",
       "0                   NaN  \n",
       "1                   NaN  \n",
       "2                   NaN  \n",
       "3                   NaN  \n",
       "4                   NaN  \n",
       "\n",
       "[5 rows x 350 columns]"
      ]
     },
     "execution_count": 6,
     "metadata": {},
     "output_type": "execute_result"
    }
   ],
   "source": [
    "\n",
    "patients_metadata1 = pd.read_csv('/mnt/k/Abide Dataset/metadata/ABIDEII-EMC_1_CSV.csv')\n",
    "meta2 = pd.read_csv('/mnt/k/Abide Dataset/metadata/ABIDEII-GU_1.csv', encoding = 'ISO-8859-1')\n",
    "\n",
    "patients_metadata = pd.concat([patients_metadata1 , meta2])\n",
    "patients_metadata.fillna(0)\n",
    "\n",
    "labels = []\n",
    "subjects = []\n",
    "for sub in subject_files:\n",
    "    if not sub[:5].isdigit():\n",
    "        continue\n",
    "    key = int(sub[:5])\n",
    "    subjects.append(str(key))\n",
    "    labels.append(patients_metadata.loc[patients_metadata['SUB_ID'] == key, 'DX_GROUP'].values.sum()-1)\n",
    " \n",
    "labels = torch.tensor(labels)\n",
    "\n",
    "print(labels)\n",
    "print(len(labels))\n",
    "print(subjects)\n",
    "patients_metadata.head()"
   ]
  },
  {
   "cell_type": "code",
   "execution_count": null,
   "id": "b7d9be5a-4e63-4799-ab01-62695badac83",
   "metadata": {},
   "outputs": [],
   "source": []
  },
  {
   "cell_type": "code",
   "execution_count": 7,
   "id": "f13a2f02-6b5b-48df-b7bd-c19c8b36c60f",
   "metadata": {},
   "outputs": [],
   "source": [
    "class TimeSeriesDataset(Dataset):\n",
    "    def __init__(self, file_paths, labels):\n",
    "        self.file_paths = file_paths\n",
    "        self.labels = labels\n",
    "\n",
    "    def __len__(self):\n",
    "        return len(self.file_paths)\n",
    "\n",
    "    def __getitem__(self, idx):\n",
    "        # Load the CSV data and ensure the shape is (150, 1000)\n",
    "        data = pd.read_csv(self.file_paths[idx], header=None)[:152].values  # Shape: (150, 1000)\n",
    "        data = torch.tensor(data, dtype=torch.float32)\n",
    "        label = torch.tensor(self.labels[idx], dtype=torch.long)\n",
    "        return data, label\n",
    "\n"
   ]
  },
  {
   "cell_type": "code",
   "execution_count": 8,
   "id": "87046ba4-fcaf-4313-a9c6-5c17f6fb92f2",
   "metadata": {},
   "outputs": [],
   "source": [
    "#file_paths = [os.path.join('final_processed', sub) for sub in subjects_files]"
   ]
  },
  {
   "cell_type": "code",
   "execution_count": 9,
   "id": "ef2fd928-85d7-4803-b65a-ef5b6d223c33",
   "metadata": {},
   "outputs": [],
   "source": [
    "#hyperparameters\n",
    "input_size = 1000         # Number of features (assumes 1 feature per timestamp)\n",
    "hidden_size = 8 # Number of hidden units in LSTM\n",
    "num_layers = 2      # Number of LSTM layers\n",
    "num_classes = 2        # Number of output classes (adjust as needed)\n",
    "batch_size = 2"
   ]
  },
  {
   "cell_type": "code",
   "execution_count": 10,
   "id": "3a24fc7e-4664-433b-80b2-8734399b13b0",
   "metadata": {},
   "outputs": [],
   "source": [
    "from sklearn.model_selection import train_test_split\n",
    "\n",
    "# Split file paths and labels into training and testing sets (70% train, 30% test)\n",
    "train_paths, test_paths, train_labels, test_labels = train_test_split(\n",
    "    file_paths, labels, test_size=0.3, random_state=42\n",
    ")\n",
    "\n",
    "# Create datasets and data loaders\n",
    "train_dataset = TimeSeriesDataset(train_paths, train_labels)\n",
    "test_dataset = TimeSeriesDataset(test_paths, test_labels)\n",
    "train_loader = DataLoader(train_dataset, batch_size=batch_size, shuffle=False)\n",
    "test_loader = DataLoader(test_dataset, batch_size=batch_size)\n"
   ]
  },
  {
   "cell_type": "code",
   "execution_count": null,
   "id": "d0e821ba-85c8-492d-b605-43766ed8dd0d",
   "metadata": {},
   "outputs": [],
   "source": []
  },
  {
   "cell_type": "code",
   "execution_count": 11,
   "id": "45f17a9a-e64a-41ed-aef7-4979fb8e292b",
   "metadata": {},
   "outputs": [],
   "source": [
    "class TimeSeriesClassifier(nn.Module):\n",
    "    def __init__(self, input_size, hidden_size, num_layers, num_classes, dropout=0):\n",
    "        super(TimeSeriesClassifier, self).__init__()\n",
    "        self.lstm = nn.LSTM(input_size, hidden_size, num_layers, batch_first=True, dropout=dropout)\n",
    "        self.fc = nn.Linear(hidden_size, hidden_size)  # Linear layer to hidden size\n",
    "        self.relu = nn.ReLU()  # ReLU activation\n",
    "        self.output_layer = nn.Linear(hidden_size, num_classes)  # Final output layer\n",
    "        self.sigmoid = nn.Sigmoid()  # Sigmoid for binary classification\n",
    "\n",
    "    def forward(self, x):\n",
    "        out, _ = self.lstm(x)\n",
    "        out = out[:, -1, :]  # Use output of the last time step\n",
    "        out = self.fc(out)\n",
    "        out = self.relu(out)  # Apply ReLU activation\n",
    "        out = self.output_layer(out)  # Final layer\n",
    "        out = self.sigmoid(out)  # Apply sigmoid activation for binary classification\n",
    "        return out\n"
   ]
  },
  {
   "cell_type": "code",
   "execution_count": 12,
   "id": "386cd323-fb5e-41d5-b1f9-bdcf1e275c11",
   "metadata": {},
   "outputs": [],
   "source": [
    "# Instantiate the model and move it to the GPU\n",
    "model = TimeSeriesClassifier(input_size, hidden_size, num_layers, num_classes).to(device)\n",
    "\n"
   ]
  },
  {
   "cell_type": "code",
   "execution_count": 13,
   "id": "d2c97399-2e86-4f69-82db-ca870e21ceb4",
   "metadata": {},
   "outputs": [],
   "source": [
    "import os\n",
    "os.environ['CUDA_LAUNCH_BLOCKING'] = '1'\n"
   ]
  },
  {
   "cell_type": "code",
   "execution_count": null,
   "id": "6a16d648-f7a2-46bf-a699-52c76c466972",
   "metadata": {},
   "outputs": [],
   "source": []
  },
  {
   "cell_type": "code",
   "execution_count": 15,
   "id": "e5e8a061-0ee1-49ce-8560-95531aacf47e",
   "metadata": {},
   "outputs": [
    {
     "data": {
      "text/plain": [
       "tensor([1, 1, 0, 0, 0, 1, 1, 1, 0, 0, 0, 1, 0, 1, 0, 1])"
      ]
     },
     "execution_count": 15,
     "metadata": {},
     "output_type": "execute_result"
    }
   ],
   "source": [
    "test_labels"
   ]
  },
  {
   "cell_type": "code",
   "execution_count": 16,
   "id": "d3db4fae-620e-400d-b0d8-7e8192ef689a",
   "metadata": {},
   "outputs": [
    {
     "name": "stdout",
     "output_type": "stream",
     "text": [
      "Epoch [1/25], Loss: 0.7022\n",
      "Epoch [2/25], Loss: 0.7012\n",
      "Epoch [3/25], Loss: 0.7000\n",
      "Epoch [4/25], Loss: 0.6984\n",
      "Epoch [5/25], Loss: 0.6974\n",
      "Epoch [6/25], Loss: 0.6962\n",
      "Epoch [7/25], Loss: 0.6941\n",
      "Epoch [8/25], Loss: 0.6898\n",
      "Epoch [9/25], Loss: 0.6831\n",
      "Epoch [10/25], Loss: 0.6731\n",
      "Epoch [11/25], Loss: 0.6591\n",
      "Epoch [12/25], Loss: 0.6422\n",
      "Epoch [13/25], Loss: 0.6253\n",
      "Epoch [14/25], Loss: 0.6058\n",
      "Epoch [15/25], Loss: 0.5755\n",
      "Epoch [16/25], Loss: 0.5362\n",
      "Epoch [17/25], Loss: 0.5002\n",
      "Epoch [18/25], Loss: 0.4696\n",
      "Epoch [19/25], Loss: 0.4448\n",
      "Epoch [20/25], Loss: 0.4247\n",
      "Epoch [21/25], Loss: 0.4084\n",
      "Epoch [22/25], Loss: 0.3953\n",
      "Epoch [23/25], Loss: 0.3846\n",
      "Epoch [24/25], Loss: 0.3757\n",
      "Epoch [25/25], Loss: 0.3683\n"
     ]
    }
   ],
   "source": [
    "# Training parameters\n",
    "import warnings\n",
    "warnings.filterwarnings('ignore')\n",
    "\n",
    "from tqdm import tqdm\n",
    "num_epochs = 25\n",
    "learning_rate = 0.0005\n",
    "\n",
    "# Loss and optimizer\n",
    "criterion = nn.CrossEntropyLoss()\n",
    "\n",
    "optimizer = torch.optim.Adam(model.parameters(), lr=learning_rate)\n",
    "\n",
    "# Training loop\n",
    "for epoch in range(num_epochs):\n",
    "    for sequences, labels in train_loader:\n",
    "        # Move data to GPU\n",
    "        sequences = sequences.to(device)\n",
    "        labels = labels.to(device)\n",
    "        \n",
    "        # Forward pass\n",
    "        outputs = model(sequences)\n",
    "        loss = criterion(outputs, labels)\n",
    "        \n",
    "        # Backward and optimize\n",
    "        optimizer.zero_grad()\n",
    "        loss.backward()\n",
    "        optimizer.step()\n",
    "    print(f'Epoch [{epoch+1}/{num_epochs}], Loss: {loss.item():.4f}')\n",
    "    \n",
    "\n"
   ]
  },
  {
   "cell_type": "code",
   "execution_count": 17,
   "id": "3432c62f-1ede-4d29-abaf-dda25a619db8",
   "metadata": {},
   "outputs": [
    {
     "name": "stdout",
     "output_type": "stream",
     "text": [
      "Accuracy of the model on the training data: 100.00%\n",
      "Accuracy of the model on the test data: 75.00%\n"
     ]
    }
   ],
   "source": [
    "# Evaluation loop\n",
    "model.eval()  # Set model to evaluation mode\n",
    "with torch.no_grad():\n",
    "    correct = 0\n",
    "    total = 0\n",
    "    for sequences, labels in train_loader:\n",
    "        sequences = sequences.to(device)\n",
    "        labels = labels.to(device)\n",
    "        \n",
    "        outputs = model(sequences)\n",
    "        _, predicted = torch.max(outputs.data, 1)\n",
    "        total += labels.size(0)\n",
    "        correct += (predicted == labels).sum().item()\n",
    "\n",
    "print(f'Accuracy of the model on the training data: {100 * correct / total:.2f}%')\n",
    "\n",
    "# Evaluate the model on the test data\n",
    "predicted_values = []\n",
    "\n",
    "model.eval()  # Set model to evaluation mode\n",
    "with torch.no_grad():\n",
    "    correct = 0\n",
    "    total = 0\n",
    "    for sequences, labels in test_loader:\n",
    "        sequences = sequences.to(device)\n",
    "        labels = labels.to(device)\n",
    "        \n",
    "        outputs = model(sequences)\n",
    "        _, predicted = torch.max(outputs.data, 1)\n",
    "        total += labels.size(0)\n",
    "        correct += (predicted == labels).sum().item()\n",
    "        predicted_values.extend(predicted.cpu().numpy())\n",
    "\n",
    "print(f'Accuracy of the model on the test data: {100 * correct / total:.2f}%')\n"
   ]
  },
  {
   "cell_type": "code",
   "execution_count": 18,
   "id": "256860dd-6f34-48a6-b839-1dea4c70145a",
   "metadata": {},
   "outputs": [
    {
     "data": {
      "image/png": "[encoded data removed]",
      "text/plain": [
       "<Figure size 600x500 with 2 Axes>"
      ]
     },
     "metadata": {},
     "output_type": "display_data"
    },
    {
     "name": "stdout",
     "output_type": "stream",
     "text": [
      "Precision: 0.75\n",
      "Recall: 0.75\n",
      "F1 Score: 0.75\n"
     ]
    }
   ],
   "source": [
    "import numpy as np\n",
    "import seaborn as sns\n",
    "import matplotlib.pyplot as plt\n",
    "from sklearn.metrics import confusion_matrix\n",
    "from sklearn.metrics import precision_score, recall_score, f1_score\n",
    "\n",
    "# Example ground truth labels and predicted labels\n",
    "y_true = test_labels\n",
    "y_pred = predicted_values\n",
    "\n",
    "\n",
    "# Calculate confusion matrix\n",
    "cm = confusion_matrix(y_true, y_pred)\n",
    "\n",
    "# Plot the confusion matrix\n",
    "plt.figure(figsize=(6, 5))\n",
    "sns.heatmap(cm, annot=True, fmt='g', cmap='Blues', xticklabels=['Predicted 0', 'Predicted 1'], yticklabels=['Actual 0', 'Actual 1'])\n",
    "plt.title('Confusion Matrix')\n",
    "plt.xlabel('Predicted Labels')\n",
    "plt.ylabel('Actual Labels')\n",
    "plt.show()\n",
    "\n",
    "# Calculate metrics\n",
    "precision = precision_score(y_true, y_pred)\n",
    "recall = recall_score(y_true, y_pred)\n",
    "f1 = f1_score(y_true, y_pred)\n",
    "\n",
    "# Print results\n",
    "print(f\"Precision: {precision:.2f}\")\n",
    "print(f\"Recall: {recall:.2f}\")\n",
    "print(f\"F1 Score: {f1:.2f}\")\n"
   ]
  },
  {
   "cell_type": "code",
   "execution_count": null,
   "id": "6456d5df-e0ae-4af5-9621-40bd41c959e8",
   "metadata": {},
   "outputs": [],
   "source": []
  }
 ],
 "metadata": {
  "kernelspec": {
   "display_name": "Python 3 (ipykernel)",
   "language": "python",
   "name": "python3"
  },
  "language_info": {
   "codemirror_mode": {
    "name": "ipython",
    "version": 3
   },
   "file_extension": ".py",
   "mimetype": "text/x-python",
   "name": "python",
   "nbconvert_exporter": "python",
   "pygments_lexer": "ipython3",
   "version": "3.11.10"
  }
 },
 "nbformat": 4,
 "nbformat_minor": 5
}
